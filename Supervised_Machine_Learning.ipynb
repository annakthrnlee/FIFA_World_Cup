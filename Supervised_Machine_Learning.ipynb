{
  "nbformat": 4,
  "nbformat_minor": 0,
  "metadata": {
    "colab": {
      "provenance": [],
      "authorship_tag": "ABX9TyOdXWkNTI5r3OYgEA7knAYW",
      "include_colab_link": true
    },
    "kernelspec": {
      "name": "python3",
      "display_name": "Python 3"
    },
    "language_info": {
      "name": "python"
    }
  },
  "cells": [
    {
      "cell_type": "markdown",
      "metadata": {
        "id": "view-in-github",
        "colab_type": "text"
      },
      "source": [
        "<a href=\"https://colab.research.google.com/github/annakthrnlee/FIFA_World_Cup/blob/lee1/Supervised_Machine_Learning.ipynb\" target=\"_parent\"><img src=\"https://colab.research.google.com/assets/colab-badge.svg\" alt=\"Open In Colab\"/></a>"
      ]
    },
    {
      "cell_type": "code",
      "source": [
        "# Upload dataset\n",
        "# Create supervised machine learning model "
      ],
      "metadata": {
        "id": "3Gg3zVx4xM5y"
      },
      "execution_count": 1,
      "outputs": []
    },
    {
      "cell_type": "code",
      "execution_count": 2,
      "metadata": {
        "colab": {
          "base_uri": "https://localhost:8080/"
        },
        "id": "hIekHLNJxBeg",
        "outputId": "9fa08d40-5e63-4914-e847-791733e95ad3"
      },
      "outputs": [
        {
          "output_type": "stream",
          "name": "stdout",
          "text": [
            "Drive already mounted at /content/drive; to attempt to forcibly remount, call drive.mount(\"/content/drive\", force_remount=True).\n"
          ]
        }
      ],
      "source": [
        "from google.colab import drive\n",
        "drive.mount('/content/drive')"
      ]
    },
    {
      "cell_type": "code",
      "source": [
        "# Import and read Revised_International_matches.csv \n",
        "from google.colab import files\n",
        " \n",
        " \n",
        "uploaded = files.upload()"
      ],
      "metadata": {
        "colab": {
          "base_uri": "https://localhost:8080/",
          "height": 74
        },
        "id": "ZOnbRyJ1-Bwi",
        "outputId": "4155e085-b6c7-4a5f-c514-61d8d995efd2"
      },
      "execution_count": 3,
      "outputs": [
        {
          "output_type": "display_data",
          "data": {
            "text/plain": [
              "<IPython.core.display.HTML object>"
            ],
            "text/html": [
              "\n",
              "     <input type=\"file\" id=\"files-cdfc1a1f-4144-4001-8239-b6074960ec14\" name=\"files[]\" multiple disabled\n",
              "        style=\"border:none\" />\n",
              "     <output id=\"result-cdfc1a1f-4144-4001-8239-b6074960ec14\">\n",
              "      Upload widget is only available when the cell has been executed in the\n",
              "      current browser session. Please rerun this cell to enable.\n",
              "      </output>\n",
              "      <script>// Copyright 2017 Google LLC\n",
              "//\n",
              "// Licensed under the Apache License, Version 2.0 (the \"License\");\n",
              "// you may not use this file except in compliance with the License.\n",
              "// You may obtain a copy of the License at\n",
              "//\n",
              "//      http://www.apache.org/licenses/LICENSE-2.0\n",
              "//\n",
              "// Unless required by applicable law or agreed to in writing, software\n",
              "// distributed under the License is distributed on an \"AS IS\" BASIS,\n",
              "// WITHOUT WARRANTIES OR CONDITIONS OF ANY KIND, either express or implied.\n",
              "// See the License for the specific language governing permissions and\n",
              "// limitations under the License.\n",
              "\n",
              "/**\n",
              " * @fileoverview Helpers for google.colab Python module.\n",
              " */\n",
              "(function(scope) {\n",
              "function span(text, styleAttributes = {}) {\n",
              "  const element = document.createElement('span');\n",
              "  element.textContent = text;\n",
              "  for (const key of Object.keys(styleAttributes)) {\n",
              "    element.style[key] = styleAttributes[key];\n",
              "  }\n",
              "  return element;\n",
              "}\n",
              "\n",
              "// Max number of bytes which will be uploaded at a time.\n",
              "const MAX_PAYLOAD_SIZE = 100 * 1024;\n",
              "\n",
              "function _uploadFiles(inputId, outputId) {\n",
              "  const steps = uploadFilesStep(inputId, outputId);\n",
              "  const outputElement = document.getElementById(outputId);\n",
              "  // Cache steps on the outputElement to make it available for the next call\n",
              "  // to uploadFilesContinue from Python.\n",
              "  outputElement.steps = steps;\n",
              "\n",
              "  return _uploadFilesContinue(outputId);\n",
              "}\n",
              "\n",
              "// This is roughly an async generator (not supported in the browser yet),\n",
              "// where there are multiple asynchronous steps and the Python side is going\n",
              "// to poll for completion of each step.\n",
              "// This uses a Promise to block the python side on completion of each step,\n",
              "// then passes the result of the previous step as the input to the next step.\n",
              "function _uploadFilesContinue(outputId) {\n",
              "  const outputElement = document.getElementById(outputId);\n",
              "  const steps = outputElement.steps;\n",
              "\n",
              "  const next = steps.next(outputElement.lastPromiseValue);\n",
              "  return Promise.resolve(next.value.promise).then((value) => {\n",
              "    // Cache the last promise value to make it available to the next\n",
              "    // step of the generator.\n",
              "    outputElement.lastPromiseValue = value;\n",
              "    return next.value.response;\n",
              "  });\n",
              "}\n",
              "\n",
              "/**\n",
              " * Generator function which is called between each async step of the upload\n",
              " * process.\n",
              " * @param {string} inputId Element ID of the input file picker element.\n",
              " * @param {string} outputId Element ID of the output display.\n",
              " * @return {!Iterable<!Object>} Iterable of next steps.\n",
              " */\n",
              "function* uploadFilesStep(inputId, outputId) {\n",
              "  const inputElement = document.getElementById(inputId);\n",
              "  inputElement.disabled = false;\n",
              "\n",
              "  const outputElement = document.getElementById(outputId);\n",
              "  outputElement.innerHTML = '';\n",
              "\n",
              "  const pickedPromise = new Promise((resolve) => {\n",
              "    inputElement.addEventListener('change', (e) => {\n",
              "      resolve(e.target.files);\n",
              "    });\n",
              "  });\n",
              "\n",
              "  const cancel = document.createElement('button');\n",
              "  inputElement.parentElement.appendChild(cancel);\n",
              "  cancel.textContent = 'Cancel upload';\n",
              "  const cancelPromise = new Promise((resolve) => {\n",
              "    cancel.onclick = () => {\n",
              "      resolve(null);\n",
              "    };\n",
              "  });\n",
              "\n",
              "  // Wait for the user to pick the files.\n",
              "  const files = yield {\n",
              "    promise: Promise.race([pickedPromise, cancelPromise]),\n",
              "    response: {\n",
              "      action: 'starting',\n",
              "    }\n",
              "  };\n",
              "\n",
              "  cancel.remove();\n",
              "\n",
              "  // Disable the input element since further picks are not allowed.\n",
              "  inputElement.disabled = true;\n",
              "\n",
              "  if (!files) {\n",
              "    return {\n",
              "      response: {\n",
              "        action: 'complete',\n",
              "      }\n",
              "    };\n",
              "  }\n",
              "\n",
              "  for (const file of files) {\n",
              "    const li = document.createElement('li');\n",
              "    li.append(span(file.name, {fontWeight: 'bold'}));\n",
              "    li.append(span(\n",
              "        `(${file.type || 'n/a'}) - ${file.size} bytes, ` +\n",
              "        `last modified: ${\n",
              "            file.lastModifiedDate ? file.lastModifiedDate.toLocaleDateString() :\n",
              "                                    'n/a'} - `));\n",
              "    const percent = span('0% done');\n",
              "    li.appendChild(percent);\n",
              "\n",
              "    outputElement.appendChild(li);\n",
              "\n",
              "    const fileDataPromise = new Promise((resolve) => {\n",
              "      const reader = new FileReader();\n",
              "      reader.onload = (e) => {\n",
              "        resolve(e.target.result);\n",
              "      };\n",
              "      reader.readAsArrayBuffer(file);\n",
              "    });\n",
              "    // Wait for the data to be ready.\n",
              "    let fileData = yield {\n",
              "      promise: fileDataPromise,\n",
              "      response: {\n",
              "        action: 'continue',\n",
              "      }\n",
              "    };\n",
              "\n",
              "    // Use a chunked sending to avoid message size limits. See b/62115660.\n",
              "    let position = 0;\n",
              "    do {\n",
              "      const length = Math.min(fileData.byteLength - position, MAX_PAYLOAD_SIZE);\n",
              "      const chunk = new Uint8Array(fileData, position, length);\n",
              "      position += length;\n",
              "\n",
              "      const base64 = btoa(String.fromCharCode.apply(null, chunk));\n",
              "      yield {\n",
              "        response: {\n",
              "          action: 'append',\n",
              "          file: file.name,\n",
              "          data: base64,\n",
              "        },\n",
              "      };\n",
              "\n",
              "      let percentDone = fileData.byteLength === 0 ?\n",
              "          100 :\n",
              "          Math.round((position / fileData.byteLength) * 100);\n",
              "      percent.textContent = `${percentDone}% done`;\n",
              "\n",
              "    } while (position < fileData.byteLength);\n",
              "  }\n",
              "\n",
              "  // All done.\n",
              "  yield {\n",
              "    response: {\n",
              "      action: 'complete',\n",
              "    }\n",
              "  };\n",
              "}\n",
              "\n",
              "scope.google = scope.google || {};\n",
              "scope.google.colab = scope.google.colab || {};\n",
              "scope.google.colab._files = {\n",
              "  _uploadFiles,\n",
              "  _uploadFilesContinue,\n",
              "};\n",
              "})(self);\n",
              "</script> "
            ]
          },
          "metadata": {}
        },
        {
          "output_type": "stream",
          "name": "stdout",
          "text": [
            "Saving Revised_International_Matches.csv to Revised_International_Matches (4).csv\n"
          ]
        }
      ]
    },
    {
      "cell_type": "code",
      "source": [
        "# Import and read the dataset\n",
        "import pandas as pd \n",
        "Revised_Matches_df = pd.read_csv(\"Revised_International_Matches.csv\")\n",
        "Revised_Matches_df.head()"
      ],
      "metadata": {
        "colab": {
          "base_uri": "https://localhost:8080/",
          "height": 206
        },
        "id": "4vOG7QMd-Qdb",
        "outputId": "de42d343-ca21-43b8-fec2-d4d9e05c321e"
      },
      "execution_count": 4,
      "outputs": [
        {
          "output_type": "execute_result",
          "data": {
            "text/plain": [
              "   Unnamed: 0        date home_team     away_team home_team_continent  \\\n",
              "0           0  1993-08-08   Bolivia       Uruguay       South America   \n",
              "1           1  1993-08-08    Brazil        Mexico       South America   \n",
              "2           2  1993-08-08   Ecuador     Venezuela       South America   \n",
              "3           3  1993-08-08    Guinea  Sierra Leone              Africa   \n",
              "4           4  1993-08-08  Paraguay     Argentina       South America   \n",
              "\n",
              "  away_team_continent  home_team_fifa_rank  away_team_fifa_rank  \\\n",
              "0       South America                   59                   22   \n",
              "1       North America                    8                   14   \n",
              "2       South America                   35                   94   \n",
              "3              Africa                   65                   86   \n",
              "4       South America                   67                    5   \n",
              "\n",
              "                     tournament   country home_team_result  \n",
              "0  FIFA World Cup qualification   Bolivia              Win  \n",
              "1                      Friendly    Brazil             Draw  \n",
              "2  FIFA World Cup qualification   Ecuador              Win  \n",
              "3                      Friendly    Guinea              Win  \n",
              "4  FIFA World Cup qualification  Paraguay             Lose  "
            ],
            "text/html": [
              "\n",
              "  <div id=\"df-79420095-b0d2-461d-acff-9c8e0145a70d\">\n",
              "    <div class=\"colab-df-container\">\n",
              "      <div>\n",
              "<style scoped>\n",
              "    .dataframe tbody tr th:only-of-type {\n",
              "        vertical-align: middle;\n",
              "    }\n",
              "\n",
              "    .dataframe tbody tr th {\n",
              "        vertical-align: top;\n",
              "    }\n",
              "\n",
              "    .dataframe thead th {\n",
              "        text-align: right;\n",
              "    }\n",
              "</style>\n",
              "<table border=\"1\" class=\"dataframe\">\n",
              "  <thead>\n",
              "    <tr style=\"text-align: right;\">\n",
              "      <th></th>\n",
              "      <th>Unnamed: 0</th>\n",
              "      <th>date</th>\n",
              "      <th>home_team</th>\n",
              "      <th>away_team</th>\n",
              "      <th>home_team_continent</th>\n",
              "      <th>away_team_continent</th>\n",
              "      <th>home_team_fifa_rank</th>\n",
              "      <th>away_team_fifa_rank</th>\n",
              "      <th>tournament</th>\n",
              "      <th>country</th>\n",
              "      <th>home_team_result</th>\n",
              "    </tr>\n",
              "  </thead>\n",
              "  <tbody>\n",
              "    <tr>\n",
              "      <th>0</th>\n",
              "      <td>0</td>\n",
              "      <td>1993-08-08</td>\n",
              "      <td>Bolivia</td>\n",
              "      <td>Uruguay</td>\n",
              "      <td>South America</td>\n",
              "      <td>South America</td>\n",
              "      <td>59</td>\n",
              "      <td>22</td>\n",
              "      <td>FIFA World Cup qualification</td>\n",
              "      <td>Bolivia</td>\n",
              "      <td>Win</td>\n",
              "    </tr>\n",
              "    <tr>\n",
              "      <th>1</th>\n",
              "      <td>1</td>\n",
              "      <td>1993-08-08</td>\n",
              "      <td>Brazil</td>\n",
              "      <td>Mexico</td>\n",
              "      <td>South America</td>\n",
              "      <td>North America</td>\n",
              "      <td>8</td>\n",
              "      <td>14</td>\n",
              "      <td>Friendly</td>\n",
              "      <td>Brazil</td>\n",
              "      <td>Draw</td>\n",
              "    </tr>\n",
              "    <tr>\n",
              "      <th>2</th>\n",
              "      <td>2</td>\n",
              "      <td>1993-08-08</td>\n",
              "      <td>Ecuador</td>\n",
              "      <td>Venezuela</td>\n",
              "      <td>South America</td>\n",
              "      <td>South America</td>\n",
              "      <td>35</td>\n",
              "      <td>94</td>\n",
              "      <td>FIFA World Cup qualification</td>\n",
              "      <td>Ecuador</td>\n",
              "      <td>Win</td>\n",
              "    </tr>\n",
              "    <tr>\n",
              "      <th>3</th>\n",
              "      <td>3</td>\n",
              "      <td>1993-08-08</td>\n",
              "      <td>Guinea</td>\n",
              "      <td>Sierra Leone</td>\n",
              "      <td>Africa</td>\n",
              "      <td>Africa</td>\n",
              "      <td>65</td>\n",
              "      <td>86</td>\n",
              "      <td>Friendly</td>\n",
              "      <td>Guinea</td>\n",
              "      <td>Win</td>\n",
              "    </tr>\n",
              "    <tr>\n",
              "      <th>4</th>\n",
              "      <td>4</td>\n",
              "      <td>1993-08-08</td>\n",
              "      <td>Paraguay</td>\n",
              "      <td>Argentina</td>\n",
              "      <td>South America</td>\n",
              "      <td>South America</td>\n",
              "      <td>67</td>\n",
              "      <td>5</td>\n",
              "      <td>FIFA World Cup qualification</td>\n",
              "      <td>Paraguay</td>\n",
              "      <td>Lose</td>\n",
              "    </tr>\n",
              "  </tbody>\n",
              "</table>\n",
              "</div>\n",
              "      <button class=\"colab-df-convert\" onclick=\"convertToInteractive('df-79420095-b0d2-461d-acff-9c8e0145a70d')\"\n",
              "              title=\"Convert this dataframe to an interactive table.\"\n",
              "              style=\"display:none;\">\n",
              "        \n",
              "  <svg xmlns=\"http://www.w3.org/2000/svg\" height=\"24px\"viewBox=\"0 0 24 24\"\n",
              "       width=\"24px\">\n",
              "    <path d=\"M0 0h24v24H0V0z\" fill=\"none\"/>\n",
              "    <path d=\"M18.56 5.44l.94 2.06.94-2.06 2.06-.94-2.06-.94-.94-2.06-.94 2.06-2.06.94zm-11 1L8.5 8.5l.94-2.06 2.06-.94-2.06-.94L8.5 2.5l-.94 2.06-2.06.94zm10 10l.94 2.06.94-2.06 2.06-.94-2.06-.94-.94-2.06-.94 2.06-2.06.94z\"/><path d=\"M17.41 7.96l-1.37-1.37c-.4-.4-.92-.59-1.43-.59-.52 0-1.04.2-1.43.59L10.3 9.45l-7.72 7.72c-.78.78-.78 2.05 0 2.83L4 21.41c.39.39.9.59 1.41.59.51 0 1.02-.2 1.41-.59l7.78-7.78 2.81-2.81c.8-.78.8-2.07 0-2.86zM5.41 20L4 18.59l7.72-7.72 1.47 1.35L5.41 20z\"/>\n",
              "  </svg>\n",
              "      </button>\n",
              "      \n",
              "  <style>\n",
              "    .colab-df-container {\n",
              "      display:flex;\n",
              "      flex-wrap:wrap;\n",
              "      gap: 12px;\n",
              "    }\n",
              "\n",
              "    .colab-df-convert {\n",
              "      background-color: #E8F0FE;\n",
              "      border: none;\n",
              "      border-radius: 50%;\n",
              "      cursor: pointer;\n",
              "      display: none;\n",
              "      fill: #1967D2;\n",
              "      height: 32px;\n",
              "      padding: 0 0 0 0;\n",
              "      width: 32px;\n",
              "    }\n",
              "\n",
              "    .colab-df-convert:hover {\n",
              "      background-color: #E2EBFA;\n",
              "      box-shadow: 0px 1px 2px rgba(60, 64, 67, 0.3), 0px 1px 3px 1px rgba(60, 64, 67, 0.15);\n",
              "      fill: #174EA6;\n",
              "    }\n",
              "\n",
              "    [theme=dark] .colab-df-convert {\n",
              "      background-color: #3B4455;\n",
              "      fill: #D2E3FC;\n",
              "    }\n",
              "\n",
              "    [theme=dark] .colab-df-convert:hover {\n",
              "      background-color: #434B5C;\n",
              "      box-shadow: 0px 1px 3px 1px rgba(0, 0, 0, 0.15);\n",
              "      filter: drop-shadow(0px 1px 2px rgba(0, 0, 0, 0.3));\n",
              "      fill: #FFFFFF;\n",
              "    }\n",
              "  </style>\n",
              "\n",
              "      <script>\n",
              "        const buttonEl =\n",
              "          document.querySelector('#df-79420095-b0d2-461d-acff-9c8e0145a70d button.colab-df-convert');\n",
              "        buttonEl.style.display =\n",
              "          google.colab.kernel.accessAllowed ? 'block' : 'none';\n",
              "\n",
              "        async function convertToInteractive(key) {\n",
              "          const element = document.querySelector('#df-79420095-b0d2-461d-acff-9c8e0145a70d');\n",
              "          const dataTable =\n",
              "            await google.colab.kernel.invokeFunction('convertToInteractive',\n",
              "                                                     [key], {});\n",
              "          if (!dataTable) return;\n",
              "\n",
              "          const docLinkHtml = 'Like what you see? Visit the ' +\n",
              "            '<a target=\"_blank\" href=https://colab.research.google.com/notebooks/data_table.ipynb>data table notebook</a>'\n",
              "            + ' to learn more about interactive tables.';\n",
              "          element.innerHTML = '';\n",
              "          dataTable['output_type'] = 'display_data';\n",
              "          await google.colab.output.renderOutput(dataTable, element);\n",
              "          const docLink = document.createElement('div');\n",
              "          docLink.innerHTML = docLinkHtml;\n",
              "          element.appendChild(docLink);\n",
              "        }\n",
              "      </script>\n",
              "    </div>\n",
              "  </div>\n",
              "  "
            ]
          },
          "metadata": {},
          "execution_count": 4
        }
      ]
    },
    {
      "cell_type": "code",
      "source": [
        "# Import our dependencies\n",
        "from sklearn.model_selection import train_test_split\n",
        "from sklearn.preprocessing import StandardScaler,OneHotEncoder\n",
        "import tensorflow as tf"
      ],
      "metadata": {
        "id": "7mqOQTo2-fvA"
      },
      "execution_count": 5,
      "outputs": []
    },
    {
      "cell_type": "code",
      "source": [
        "# Determine the number of unique values in each column\n",
        "Revised_Matches_df.nunique()"
      ],
      "metadata": {
        "colab": {
          "base_uri": "https://localhost:8080/"
        },
        "id": "dAoiU5VD_QLh",
        "outputId": "a9a39b40-0bdb-4afa-fb78-f071273d2d17"
      },
      "execution_count": 6,
      "outputs": [
        {
          "output_type": "execute_result",
          "data": {
            "text/plain": [
              "Unnamed: 0             23921\n",
              "date                    5550\n",
              "home_team                211\n",
              "away_team                211\n",
              "home_team_continent        6\n",
              "away_team_continent        6\n",
              "home_team_fifa_rank      211\n",
              "away_team_fifa_rank      211\n",
              "tournament                82\n",
              "country                  217\n",
              "home_team_result           3\n",
              "dtype: int64"
            ]
          },
          "metadata": {},
          "execution_count": 6
        }
      ]
    },
    {
      "cell_type": "code",
      "source": [
        "# Look at nationality_name value counts for binning\n",
        "home_continent_counts = Revised_Matches_df.loc[:, \"home_team_continent\"].value_counts()\n",
        "home_continent_counts"
      ],
      "metadata": {
        "colab": {
          "base_uri": "https://localhost:8080/"
        },
        "id": "EBOvuJDTKa67",
        "outputId": "28b2cdbd-e4ca-4c22-fa06-b913a5b078c5"
      },
      "execution_count": 7,
      "outputs": [
        {
          "output_type": "execute_result",
          "data": {
            "text/plain": [
              "Europe           7593\n",
              "Africa           5885\n",
              "Asia             5302\n",
              "North America    2772\n",
              "South America    1839\n",
              "Oceania           530\n",
              "Name: home_team_continent, dtype: int64"
            ]
          },
          "metadata": {},
          "execution_count": 7
        }
      ]
    },
    {
      "cell_type": "code",
      "source": [
        "# Look at country value counts for binning\n",
        "country_counts = Revised_Matches_df.loc[:, \"country\"].value_counts()\n",
        "country_counts"
      ],
      "metadata": {
        "colab": {
          "base_uri": "https://localhost:8080/"
        },
        "id": "qeqTch8FDhCx",
        "outputId": "cb0fd72b-774c-45d9-8072-dc5432cdbc56"
      },
      "execution_count": 8,
      "outputs": [
        {
          "output_type": "execute_result",
          "data": {
            "text/plain": [
              "USA                      1003\n",
              "South Africa              505\n",
              "United Arab Emirates      462\n",
              "Qatar                     461\n",
              "France                    445\n",
              "                         ... \n",
              "Réunion                     2\n",
              "Afghanistan                 2\n",
              "Tahiti                      2\n",
              "Saint Martin                2\n",
              "Serbia and Montenegro       1\n",
              "Name: country, Length: 217, dtype: int64"
            ]
          },
          "metadata": {},
          "execution_count": 8
        }
      ]
    },
    {
      "cell_type": "code",
      "source": [
        "# Look at rank value counts for binning\n",
        "home_rank_counts = Revised_Matches_df.loc[:, \"home_team_fifa_rank\"].value_counts()\n",
        "home_rank_counts"
      ],
      "metadata": {
        "colab": {
          "base_uri": "https://localhost:8080/"
        },
        "id": "BEgQmYcVHjgM",
        "outputId": "7d426ad5-41ce-4616-bfb1-f222388f5b77"
      },
      "execution_count": 9,
      "outputs": [
        {
          "output_type": "execute_result",
          "data": {
            "text/plain": [
              "22     214\n",
              "3      209\n",
              "29     203\n",
              "5      198\n",
              "11     198\n",
              "      ... \n",
              "210     12\n",
              "207     11\n",
              "209     11\n",
              "208      8\n",
              "211      6\n",
              "Name: home_team_fifa_rank, Length: 211, dtype: int64"
            ]
          },
          "metadata": {},
          "execution_count": 9
        }
      ]
    },
    {
      "cell_type": "code",
      "source": [
        "# Look at rank value counts for binning\n",
        "away_rank_counts = Revised_Matches_df.loc[:, \"away_team_fifa_rank\"].value_counts()\n",
        "away_rank_counts"
      ],
      "metadata": {
        "colab": {
          "base_uri": "https://localhost:8080/"
        },
        "id": "20uMwdXJIF__",
        "outputId": "c54a8d77-58bb-45fd-d158-e12f4c8cd4ea"
      },
      "execution_count": 10,
      "outputs": [
        {
          "output_type": "execute_result",
          "data": {
            "text/plain": [
              "1      195\n",
              "29     189\n",
              "14     188\n",
              "38     184\n",
              "18     183\n",
              "      ... \n",
              "207     17\n",
              "210     13\n",
              "209     12\n",
              "208      8\n",
              "211      5\n",
              "Name: away_team_fifa_rank, Length: 211, dtype: int64"
            ]
          },
          "metadata": {},
          "execution_count": 10
        }
      ]
    },
    {
      "cell_type": "code",
      "source": [
        "# Let's just see continent home and away games played\n",
        "Revised_Matches_df['home_team_continent'] # Step 1"
      ],
      "metadata": {
        "colab": {
          "base_uri": "https://localhost:8080/"
        },
        "id": "-YlW-xAqIZAs",
        "outputId": "382d8691-9ae0-4b0f-b166-c5dd9a9dc5ee"
      },
      "execution_count": 11,
      "outputs": [
        {
          "output_type": "execute_result",
          "data": {
            "text/plain": [
              "0        South America\n",
              "1        South America\n",
              "2        South America\n",
              "3               Africa\n",
              "4        South America\n",
              "             ...      \n",
              "23916           Europe\n",
              "23917           Europe\n",
              "23918    South America\n",
              "23919             Asia\n",
              "23920             Asia\n",
              "Name: home_team_continent, Length: 23921, dtype: object"
            ]
          },
          "metadata": {},
          "execution_count": 11
        }
      ]
    },
    {
      "cell_type": "code",
      "source": [
        "Revised_Matches_df['home_team_continent'].value_counts() # Step 2"
      ],
      "metadata": {
        "colab": {
          "base_uri": "https://localhost:8080/"
        },
        "id": "9a2p7oGhLIqD",
        "outputId": "4bc8807e-9ea3-43c8-bd70-44273a084565"
      },
      "execution_count": 12,
      "outputs": [
        {
          "output_type": "execute_result",
          "data": {
            "text/plain": [
              "Europe           7593\n",
              "Africa           5885\n",
              "Asia             5302\n",
              "North America    2772\n",
              "South America    1839\n",
              "Oceania           530\n",
              "Name: home_team_continent, dtype: int64"
            ]
          },
          "metadata": {},
          "execution_count": 12
        }
      ]
    },
    {
      "cell_type": "code",
      "source": [
        "# ADDED a few random visualizations (ignore but may use for week 2)\n",
        "# Displays the amount of games played per continent (home) over a 22 year period\n",
        "Revised_Matches_df['home_team_continent'].value_counts()[:20].plot(kind='barh')"
      ],
      "metadata": {
        "colab": {
          "base_uri": "https://localhost:8080/",
          "height": 283
        },
        "id": "hoLMmp6SLSnh",
        "outputId": "01b75f28-05ee-454a-b3d9-2d8555a453ab"
      },
      "execution_count": 13,
      "outputs": [
        {
          "output_type": "execute_result",
          "data": {
            "text/plain": [
              "<matplotlib.axes._subplots.AxesSubplot at 0x7fea3d022c90>"
            ]
          },
          "metadata": {},
          "execution_count": 13
        },
        {
          "output_type": "display_data",
          "data": {
            "text/plain": [
              "<Figure size 432x288 with 1 Axes>"
            ],
            "image/png": "[encoded data removed]"
          },
          "metadata": {
            "needs_background": "light"
          }
        }
      ]
    },
    {
      "cell_type": "code",
      "source": [
        "Revised_Matches_df['away_team_continent'] # Step 1"
      ],
      "metadata": {
        "colab": {
          "base_uri": "https://localhost:8080/"
        },
        "id": "ejXSAfs3Mekf",
        "outputId": "cb6b4400-48e3-4066-c858-f2dbff112f06"
      },
      "execution_count": 14,
      "outputs": [
        {
          "output_type": "execute_result",
          "data": {
            "text/plain": [
              "0        South America\n",
              "1        North America\n",
              "2        South America\n",
              "3               Africa\n",
              "4        South America\n",
              "             ...      \n",
              "23916           Europe\n",
              "23917           Europe\n",
              "23918           Africa\n",
              "23919           Africa\n",
              "23920           Africa\n",
              "Name: away_team_continent, Length: 23921, dtype: object"
            ]
          },
          "metadata": {},
          "execution_count": 14
        }
      ]
    },
    {
      "cell_type": "code",
      "source": [
        "Revised_Matches_df['away_team_continent'].value_counts() # Step 2"
      ],
      "metadata": {
        "colab": {
          "base_uri": "https://localhost:8080/"
        },
        "id": "F93C3Kx7MioG",
        "outputId": "1d876c98-7485-4853-f986-28cf03b7333d"
      },
      "execution_count": 15,
      "outputs": [
        {
          "output_type": "execute_result",
          "data": {
            "text/plain": [
              "Europe           7359\n",
              "Africa           6306\n",
              "Asia             4817\n",
              "North America    2703\n",
              "South America    2161\n",
              "Oceania           575\n",
              "Name: away_team_continent, dtype: int64"
            ]
          },
          "metadata": {},
          "execution_count": 15
        }
      ]
    },
    {
      "cell_type": "code",
      "source": [
        "# Displays the amount of games played per continent (away) over a 22 year period\n",
        "# Can confirm results of games played home or away won't change based on either column\n",
        "Revised_Matches_df['away_team_continent'].value_counts()[:20].plot(kind='barh')"
      ],
      "metadata": {
        "colab": {
          "base_uri": "https://localhost:8080/",
          "height": 283
        },
        "id": "fxg_tEWMMoUd",
        "outputId": "9237cf34-d3ee-4231-bca0-9697ddf39993"
      },
      "execution_count": 16,
      "outputs": [
        {
          "output_type": "execute_result",
          "data": {
            "text/plain": [
              "<matplotlib.axes._subplots.AxesSubplot at 0x7fea3cf12110>"
            ]
          },
          "metadata": {},
          "execution_count": 16
        },
        {
          "output_type": "display_data",
          "data": {
            "text/plain": [
              "<Figure size 432x288 with 1 Axes>"
            ],
            "image/png": "[encoded data removed]"
          },
          "metadata": {
            "needs_background": "light"
          }
        }
      ]
    },
    {
      "cell_type": "code",
      "source": [
        "# Generate our categorical variable list\n",
        "home_results = Revised_Matches_df.dtypes[Revised_Matches_df.dtypes == \"object\"].index.tolist()"
      ],
      "metadata": {
        "id": "0FcJ_mSuM3CY"
      },
      "execution_count": 17,
      "outputs": []
    },
    {
      "cell_type": "code",
      "source": [
        "# Check the number of unique values in each column\n",
        "Revised_Matches_df[home_results].nunique()"
      ],
      "metadata": {
        "colab": {
          "base_uri": "https://localhost:8080/"
        },
        "id": "cr5CcQaOOElJ",
        "outputId": "d7f5b14b-018a-454a-ac70-5bd5ac687637"
      },
      "execution_count": 18,
      "outputs": [
        {
          "output_type": "execute_result",
          "data": {
            "text/plain": [
              "date                   5550\n",
              "home_team               211\n",
              "away_team               211\n",
              "home_team_continent       6\n",
              "away_team_continent       6\n",
              "tournament               82\n",
              "country                 217\n",
              "home_team_result          3\n",
              "dtype: int64"
            ]
          },
          "metadata": {},
          "execution_count": 18
        }
      ]
    },
    {
      "cell_type": "code",
      "source": [
        "# Create a OneHotEncoder instance\n",
        "enc = OneHotEncoder(sparse=False)\n",
        "\n",
        "# Fit and transform the OneHotEncoder using the categorical variable list\n",
        "encode_df = pd.DataFrame(enc.fit_transform(Revised_Matches_df[home_results]))\n",
        "\n",
        "# Add the encoded variable names to the DataFrame\n",
        "encode_df.columns = enc.get_feature_names(home_results)\n",
        "encode_df.head()"
      ],
      "metadata": {
        "colab": {
          "base_uri": "https://localhost:8080/",
          "height": 353
        },
        "id": "T1AMYxa-ONo2",
        "outputId": "f434151c-7cb4-4f51-ca9b-e75f6bb064d4"
      },
      "execution_count": 21,
      "outputs": [
        {
          "output_type": "stream",
          "name": "stderr",
          "text": [
            "/usr/local/lib/python3.7/dist-packages/sklearn/utils/deprecation.py:87: FutureWarning: Function get_feature_names is deprecated; get_feature_names is deprecated in 1.0 and will be removed in 1.2. Please use get_feature_names_out instead.\n",
            "  warnings.warn(msg, category=FutureWarning)\n"
          ]
        },
        {
          "output_type": "execute_result",
          "data": {
            "text/plain": [
              "   date_1993-08-08  date_1993-08-09  date_1993-08-11  date_1993-08-15  \\\n",
              "0              1.0              0.0              0.0              0.0   \n",
              "1              1.0              0.0              0.0              0.0   \n",
              "2              1.0              0.0              0.0              0.0   \n",
              "3              1.0              0.0              0.0              0.0   \n",
              "4              1.0              0.0              0.0              0.0   \n",
              "\n",
              "   date_1993-08-22  date_1993-08-25  date_1993-08-29  date_1993-08-31  \\\n",
              "0              0.0              0.0              0.0              0.0   \n",
              "1              0.0              0.0              0.0              0.0   \n",
              "2              0.0              0.0              0.0              0.0   \n",
              "3              0.0              0.0              0.0              0.0   \n",
              "4              0.0              0.0              0.0              0.0   \n",
              "\n",
              "   date_1993-09-05  date_1993-09-06  ...  country_Vanuatu  country_Venezuela  \\\n",
              "0              0.0              0.0  ...              0.0                0.0   \n",
              "1              0.0              0.0  ...              0.0                0.0   \n",
              "2              0.0              0.0  ...              0.0                0.0   \n",
              "3              0.0              0.0  ...              0.0                0.0   \n",
              "4              0.0              0.0  ...              0.0                0.0   \n",
              "\n",
              "   country_Vietnam  country_Wales  country_Yemen  country_Zambia  \\\n",
              "0              0.0            0.0            0.0             0.0   \n",
              "1              0.0            0.0            0.0             0.0   \n",
              "2              0.0            0.0            0.0             0.0   \n",
              "3              0.0            0.0            0.0             0.0   \n",
              "4              0.0            0.0            0.0             0.0   \n",
              "\n",
              "   country_Zimbabwe  home_team_result_Draw  home_team_result_Lose  \\\n",
              "0               0.0                    0.0                    0.0   \n",
              "1               0.0                    1.0                    0.0   \n",
              "2               0.0                    0.0                    0.0   \n",
              "3               0.0                    0.0                    0.0   \n",
              "4               0.0                    0.0                    1.0   \n",
              "\n",
              "   home_team_result_Win  \n",
              "0                   1.0  \n",
              "1                   0.0  \n",
              "2                   1.0  \n",
              "3                   1.0  \n",
              "4                   0.0  \n",
              "\n",
              "[5 rows x 6286 columns]"
            ],
            "text/html": [
              "\n",
              "  <div id=\"df-2f584bfe-50c5-42f2-9228-634abf5e6600\">\n",
              "    <div class=\"colab-df-container\">\n",
              "      <div>\n",
              "<style scoped>\n",
              "    .dataframe tbody tr th:only-of-type {\n",
              "        vertical-align: middle;\n",
              "    }\n",
              "\n",
              "    .dataframe tbody tr th {\n",
              "        vertical-align: top;\n",
              "    }\n",
              "\n",
              "    .dataframe thead th {\n",
              "        text-align: right;\n",
              "    }\n",
              "</style>\n",
              "<table border=\"1\" class=\"dataframe\">\n",
              "  <thead>\n",
              "    <tr style=\"text-align: right;\">\n",
              "      <th></th>\n",
              "      <th>date_1993-08-08</th>\n",
              "      <th>date_1993-08-09</th>\n",
              "      <th>date_1993-08-11</th>\n",
              "      <th>date_1993-08-15</th>\n",
              "      <th>date_1993-08-22</th>\n",
              "      <th>date_1993-08-25</th>\n",
              "      <th>date_1993-08-29</th>\n",
              "      <th>date_1993-08-31</th>\n",
              "      <th>date_1993-09-05</th>\n",
              "      <th>date_1993-09-06</th>\n",
              "      <th>...</th>\n",
              "      <th>country_Vanuatu</th>\n",
              "      <th>country_Venezuela</th>\n",
              "      <th>country_Vietnam</th>\n",
              "      <th>country_Wales</th>\n",
              "      <th>country_Yemen</th>\n",
              "      <th>country_Zambia</th>\n",
              "      <th>country_Zimbabwe</th>\n",
              "      <th>home_team_result_Draw</th>\n",
              "      <th>home_team_result_Lose</th>\n",
              "      <th>home_team_result_Win</th>\n",
              "    </tr>\n",
              "  </thead>\n",
              "  <tbody>\n",
              "    <tr>\n",
              "      <th>0</th>\n",
              "      <td>1.0</td>\n",
              "      <td>0.0</td>\n",
              "      <td>0.0</td>\n",
              "      <td>0.0</td>\n",
              "      <td>0.0</td>\n",
              "      <td>0.0</td>\n",
              "      <td>0.0</td>\n",
              "      <td>0.0</td>\n",
              "      <td>0.0</td>\n",
              "      <td>0.0</td>\n",
              "      <td>...</td>\n",
              "      <td>0.0</td>\n",
              "      <td>0.0</td>\n",
              "      <td>0.0</td>\n",
              "      <td>0.0</td>\n",
              "      <td>0.0</td>\n",
              "      <td>0.0</td>\n",
              "      <td>0.0</td>\n",
              "      <td>0.0</td>\n",
              "      <td>0.0</td>\n",
              "      <td>1.0</td>\n",
              "    </tr>\n",
              "    <tr>\n",
              "      <th>1</th>\n",
              "      <td>1.0</td>\n",
              "      <td>0.0</td>\n",
              "      <td>0.0</td>\n",
              "      <td>0.0</td>\n",
              "      <td>0.0</td>\n",
              "      <td>0.0</td>\n",
              "      <td>0.0</td>\n",
              "      <td>0.0</td>\n",
              "      <td>0.0</td>\n",
              "      <td>0.0</td>\n",
              "      <td>...</td>\n",
              "      <td>0.0</td>\n",
              "      <td>0.0</td>\n",
              "      <td>0.0</td>\n",
              "      <td>0.0</td>\n",
              "      <td>0.0</td>\n",
              "      <td>0.0</td>\n",
              "      <td>0.0</td>\n",
              "      <td>1.0</td>\n",
              "      <td>0.0</td>\n",
              "      <td>0.0</td>\n",
              "    </tr>\n",
              "    <tr>\n",
              "      <th>2</th>\n",
              "      <td>1.0</td>\n",
              "      <td>0.0</td>\n",
              "      <td>0.0</td>\n",
              "      <td>0.0</td>\n",
              "      <td>0.0</td>\n",
              "      <td>0.0</td>\n",
              "      <td>0.0</td>\n",
              "      <td>0.0</td>\n",
              "      <td>0.0</td>\n",
              "      <td>0.0</td>\n",
              "      <td>...</td>\n",
              "      <td>0.0</td>\n",
              "      <td>0.0</td>\n",
              "      <td>0.0</td>\n",
              "      <td>0.0</td>\n",
              "      <td>0.0</td>\n",
              "      <td>0.0</td>\n",
              "      <td>0.0</td>\n",
              "      <td>0.0</td>\n",
              "      <td>0.0</td>\n",
              "      <td>1.0</td>\n",
              "    </tr>\n",
              "    <tr>\n",
              "      <th>3</th>\n",
              "      <td>1.0</td>\n",
              "      <td>0.0</td>\n",
              "      <td>0.0</td>\n",
              "      <td>0.0</td>\n",
              "      <td>0.0</td>\n",
              "      <td>0.0</td>\n",
              "      <td>0.0</td>\n",
              "      <td>0.0</td>\n",
              "      <td>0.0</td>\n",
              "      <td>0.0</td>\n",
              "      <td>...</td>\n",
              "      <td>0.0</td>\n",
              "      <td>0.0</td>\n",
              "      <td>0.0</td>\n",
              "      <td>0.0</td>\n",
              "      <td>0.0</td>\n",
              "      <td>0.0</td>\n",
              "      <td>0.0</td>\n",
              "      <td>0.0</td>\n",
              "      <td>0.0</td>\n",
              "      <td>1.0</td>\n",
              "    </tr>\n",
              "    <tr>\n",
              "      <th>4</th>\n",
              "      <td>1.0</td>\n",
              "      <td>0.0</td>\n",
              "      <td>0.0</td>\n",
              "      <td>0.0</td>\n",
              "      <td>0.0</td>\n",
              "      <td>0.0</td>\n",
              "      <td>0.0</td>\n",
              "      <td>0.0</td>\n",
              "      <td>0.0</td>\n",
              "      <td>0.0</td>\n",
              "      <td>...</td>\n",
              "      <td>0.0</td>\n",
              "      <td>0.0</td>\n",
              "      <td>0.0</td>\n",
              "      <td>0.0</td>\n",
              "      <td>0.0</td>\n",
              "      <td>0.0</td>\n",
              "      <td>0.0</td>\n",
              "      <td>0.0</td>\n",
              "      <td>1.0</td>\n",
              "      <td>0.0</td>\n",
              "    </tr>\n",
              "  </tbody>\n",
              "</table>\n",
              "<p>5 rows × 6286 columns</p>\n",
              "</div>\n",
              "      <button class=\"colab-df-convert\" onclick=\"convertToInteractive('df-2f584bfe-50c5-42f2-9228-634abf5e6600')\"\n",
              "              title=\"Convert this dataframe to an interactive table.\"\n",
              "              style=\"display:none;\">\n",
              "        \n",
              "  <svg xmlns=\"http://www.w3.org/2000/svg\" height=\"24px\"viewBox=\"0 0 24 24\"\n",
              "       width=\"24px\">\n",
              "    <path d=\"M0 0h24v24H0V0z\" fill=\"none\"/>\n",
              "    <path d=\"M18.56 5.44l.94 2.06.94-2.06 2.06-.94-2.06-.94-.94-2.06-.94 2.06-2.06.94zm-11 1L8.5 8.5l.94-2.06 2.06-.94-2.06-.94L8.5 2.5l-.94 2.06-2.06.94zm10 10l.94 2.06.94-2.06 2.06-.94-2.06-.94-.94-2.06-.94 2.06-2.06.94z\"/><path d=\"M17.41 7.96l-1.37-1.37c-.4-.4-.92-.59-1.43-.59-.52 0-1.04.2-1.43.59L10.3 9.45l-7.72 7.72c-.78.78-.78 2.05 0 2.83L4 21.41c.39.39.9.59 1.41.59.51 0 1.02-.2 1.41-.59l7.78-7.78 2.81-2.81c.8-.78.8-2.07 0-2.86zM5.41 20L4 18.59l7.72-7.72 1.47 1.35L5.41 20z\"/>\n",
              "  </svg>\n",
              "      </button>\n",
              "      \n",
              "  <style>\n",
              "    .colab-df-container {\n",
              "      display:flex;\n",
              "      flex-wrap:wrap;\n",
              "      gap: 12px;\n",
              "    }\n",
              "\n",
              "    .colab-df-convert {\n",
              "      background-color: #E8F0FE;\n",
              "      border: none;\n",
              "      border-radius: 50%;\n",
              "      cursor: pointer;\n",
              "      display: none;\n",
              "      fill: #1967D2;\n",
              "      height: 32px;\n",
              "      padding: 0 0 0 0;\n",
              "      width: 32px;\n",
              "    }\n",
              "\n",
              "    .colab-df-convert:hover {\n",
              "      background-color: #E2EBFA;\n",
              "      box-shadow: 0px 1px 2px rgba(60, 64, 67, 0.3), 0px 1px 3px 1px rgba(60, 64, 67, 0.15);\n",
              "      fill: #174EA6;\n",
              "    }\n",
              "\n",
              "    [theme=dark] .colab-df-convert {\n",
              "      background-color: #3B4455;\n",
              "      fill: #D2E3FC;\n",
              "    }\n",
              "\n",
              "    [theme=dark] .colab-df-convert:hover {\n",
              "      background-color: #434B5C;\n",
              "      box-shadow: 0px 1px 3px 1px rgba(0, 0, 0, 0.15);\n",
              "      filter: drop-shadow(0px 1px 2px rgba(0, 0, 0, 0.3));\n",
              "      fill: #FFFFFF;\n",
              "    }\n",
              "  </style>\n",
              "\n",
              "      <script>\n",
              "        const buttonEl =\n",
              "          document.querySelector('#df-2f584bfe-50c5-42f2-9228-634abf5e6600 button.colab-df-convert');\n",
              "        buttonEl.style.display =\n",
              "          google.colab.kernel.accessAllowed ? 'block' : 'none';\n",
              "\n",
              "        async function convertToInteractive(key) {\n",
              "          const element = document.querySelector('#df-2f584bfe-50c5-42f2-9228-634abf5e6600');\n",
              "          const dataTable =\n",
              "            await google.colab.kernel.invokeFunction('convertToInteractive',\n",
              "                                                     [key], {});\n",
              "          if (!dataTable) return;\n",
              "\n",
              "          const docLinkHtml = 'Like what you see? Visit the ' +\n",
              "            '<a target=\"_blank\" href=https://colab.research.google.com/notebooks/data_table.ipynb>data table notebook</a>'\n",
              "            + ' to learn more about interactive tables.';\n",
              "          element.innerHTML = '';\n",
              "          dataTable['output_type'] = 'display_data';\n",
              "          await google.colab.output.renderOutput(dataTable, element);\n",
              "          const docLink = document.createElement('div');\n",
              "          docLink.innerHTML = docLinkHtml;\n",
              "          element.appendChild(docLink);\n",
              "        }\n",
              "      </script>\n",
              "    </div>\n",
              "  </div>\n",
              "  "
            ]
          },
          "metadata": {},
          "execution_count": 21
        }
      ]
    },
    {
      "cell_type": "code",
      "source": [
        "# Merge one-hot encoded features and drop the originals\n",
        "Revised_Matches_df = Revised_Matches_df.merge(encode_df,left_index=True, right_index=True)\n",
        "Revised_Matches_df = Revised_Matches_df.drop(home_results,1)\n",
        "Revised_Matches_df.head()"
      ],
      "metadata": {
        "colab": {
          "base_uri": "https://localhost:8080/",
          "height": 353
        },
        "id": "PBwLJfm0OvkE",
        "outputId": "a453bd9b-b831-4004-8e66-509f19f7d2ab"
      },
      "execution_count": 22,
      "outputs": [
        {
          "output_type": "stream",
          "name": "stderr",
          "text": [
            "/usr/local/lib/python3.7/dist-packages/ipykernel_launcher.py:3: FutureWarning: In a future version of pandas all arguments of DataFrame.drop except for the argument 'labels' will be keyword-only\n",
            "  This is separate from the ipykernel package so we can avoid doing imports until\n"
          ]
        },
        {
          "output_type": "execute_result",
          "data": {
            "text/plain": [
              "   Unnamed: 0  home_team_fifa_rank  away_team_fifa_rank  date_1993-08-08  \\\n",
              "0           0                   59                   22              1.0   \n",
              "1           1                    8                   14              1.0   \n",
              "2           2                   35                   94              1.0   \n",
              "3           3                   65                   86              1.0   \n",
              "4           4                   67                    5              1.0   \n",
              "\n",
              "   date_1993-08-09  date_1993-08-11  date_1993-08-15  date_1993-08-22  \\\n",
              "0              0.0              0.0              0.0              0.0   \n",
              "1              0.0              0.0              0.0              0.0   \n",
              "2              0.0              0.0              0.0              0.0   \n",
              "3              0.0              0.0              0.0              0.0   \n",
              "4              0.0              0.0              0.0              0.0   \n",
              "\n",
              "   date_1993-08-25  date_1993-08-29  ...  country_Vanuatu  country_Venezuela  \\\n",
              "0              0.0              0.0  ...              0.0                0.0   \n",
              "1              0.0              0.0  ...              0.0                0.0   \n",
              "2              0.0              0.0  ...              0.0                0.0   \n",
              "3              0.0              0.0  ...              0.0                0.0   \n",
              "4              0.0              0.0  ...              0.0                0.0   \n",
              "\n",
              "   country_Vietnam  country_Wales  country_Yemen  country_Zambia  \\\n",
              "0              0.0            0.0            0.0             0.0   \n",
              "1              0.0            0.0            0.0             0.0   \n",
              "2              0.0            0.0            0.0             0.0   \n",
              "3              0.0            0.0            0.0             0.0   \n",
              "4              0.0            0.0            0.0             0.0   \n",
              "\n",
              "   country_Zimbabwe  home_team_result_Draw  home_team_result_Lose  \\\n",
              "0               0.0                    0.0                    0.0   \n",
              "1               0.0                    1.0                    0.0   \n",
              "2               0.0                    0.0                    0.0   \n",
              "3               0.0                    0.0                    0.0   \n",
              "4               0.0                    0.0                    1.0   \n",
              "\n",
              "   home_team_result_Win  \n",
              "0                   1.0  \n",
              "1                   0.0  \n",
              "2                   1.0  \n",
              "3                   1.0  \n",
              "4                   0.0  \n",
              "\n",
              "[5 rows x 6289 columns]"
            ],
            "text/html": [
              "\n",
              "  <div id=\"df-911144ce-316d-42e5-9e14-c9e7fc59efde\">\n",
              "    <div class=\"colab-df-container\">\n",
              "      <div>\n",
              "<style scoped>\n",
              "    .dataframe tbody tr th:only-of-type {\n",
              "        vertical-align: middle;\n",
              "    }\n",
              "\n",
              "    .dataframe tbody tr th {\n",
              "        vertical-align: top;\n",
              "    }\n",
              "\n",
              "    .dataframe thead th {\n",
              "        text-align: right;\n",
              "    }\n",
              "</style>\n",
              "<table border=\"1\" class=\"dataframe\">\n",
              "  <thead>\n",
              "    <tr style=\"text-align: right;\">\n",
              "      <th></th>\n",
              "      <th>Unnamed: 0</th>\n",
              "      <th>home_team_fifa_rank</th>\n",
              "      <th>away_team_fifa_rank</th>\n",
              "      <th>date_1993-08-08</th>\n",
              "      <th>date_1993-08-09</th>\n",
              "      <th>date_1993-08-11</th>\n",
              "      <th>date_1993-08-15</th>\n",
              "      <th>date_1993-08-22</th>\n",
              "      <th>date_1993-08-25</th>\n",
              "      <th>date_1993-08-29</th>\n",
              "      <th>...</th>\n",
              "      <th>country_Vanuatu</th>\n",
              "      <th>country_Venezuela</th>\n",
              "      <th>country_Vietnam</th>\n",
              "      <th>country_Wales</th>\n",
              "      <th>country_Yemen</th>\n",
              "      <th>country_Zambia</th>\n",
              "      <th>country_Zimbabwe</th>\n",
              "      <th>home_team_result_Draw</th>\n",
              "      <th>home_team_result_Lose</th>\n",
              "      <th>home_team_result_Win</th>\n",
              "    </tr>\n",
              "  </thead>\n",
              "  <tbody>\n",
              "    <tr>\n",
              "      <th>0</th>\n",
              "      <td>0</td>\n",
              "      <td>59</td>\n",
              "      <td>22</td>\n",
              "      <td>1.0</td>\n",
              "      <td>0.0</td>\n",
              "      <td>0.0</td>\n",
              "      <td>0.0</td>\n",
              "      <td>0.0</td>\n",
              "      <td>0.0</td>\n",
              "      <td>0.0</td>\n",
              "      <td>...</td>\n",
              "      <td>0.0</td>\n",
              "      <td>0.0</td>\n",
              "      <td>0.0</td>\n",
              "      <td>0.0</td>\n",
              "      <td>0.0</td>\n",
              "      <td>0.0</td>\n",
              "      <td>0.0</td>\n",
              "      <td>0.0</td>\n",
              "      <td>0.0</td>\n",
              "      <td>1.0</td>\n",
              "    </tr>\n",
              "    <tr>\n",
              "      <th>1</th>\n",
              "      <td>1</td>\n",
              "      <td>8</td>\n",
              "      <td>14</td>\n",
              "      <td>1.0</td>\n",
              "      <td>0.0</td>\n",
              "      <td>0.0</td>\n",
              "      <td>0.0</td>\n",
              "      <td>0.0</td>\n",
              "      <td>0.0</td>\n",
              "      <td>0.0</td>\n",
              "      <td>...</td>\n",
              "      <td>0.0</td>\n",
              "      <td>0.0</td>\n",
              "      <td>0.0</td>\n",
              "      <td>0.0</td>\n",
              "      <td>0.0</td>\n",
              "      <td>0.0</td>\n",
              "      <td>0.0</td>\n",
              "      <td>1.0</td>\n",
              "      <td>0.0</td>\n",
              "      <td>0.0</td>\n",
              "    </tr>\n",
              "    <tr>\n",
              "      <th>2</th>\n",
              "      <td>2</td>\n",
              "      <td>35</td>\n",
              "      <td>94</td>\n",
              "      <td>1.0</td>\n",
              "      <td>0.0</td>\n",
              "      <td>0.0</td>\n",
              "      <td>0.0</td>\n",
              "      <td>0.0</td>\n",
              "      <td>0.0</td>\n",
              "      <td>0.0</td>\n",
              "      <td>...</td>\n",
              "      <td>0.0</td>\n",
              "      <td>0.0</td>\n",
              "      <td>0.0</td>\n",
              "      <td>0.0</td>\n",
              "      <td>0.0</td>\n",
              "      <td>0.0</td>\n",
              "      <td>0.0</td>\n",
              "      <td>0.0</td>\n",
              "      <td>0.0</td>\n",
              "      <td>1.0</td>\n",
              "    </tr>\n",
              "    <tr>\n",
              "      <th>3</th>\n",
              "      <td>3</td>\n",
              "      <td>65</td>\n",
              "      <td>86</td>\n",
              "      <td>1.0</td>\n",
              "      <td>0.0</td>\n",
              "      <td>0.0</td>\n",
              "      <td>0.0</td>\n",
              "      <td>0.0</td>\n",
              "      <td>0.0</td>\n",
              "      <td>0.0</td>\n",
              "      <td>...</td>\n",
              "      <td>0.0</td>\n",
              "      <td>0.0</td>\n",
              "      <td>0.0</td>\n",
              "      <td>0.0</td>\n",
              "      <td>0.0</td>\n",
              "      <td>0.0</td>\n",
              "      <td>0.0</td>\n",
              "      <td>0.0</td>\n",
              "      <td>0.0</td>\n",
              "      <td>1.0</td>\n",
              "    </tr>\n",
              "    <tr>\n",
              "      <th>4</th>\n",
              "      <td>4</td>\n",
              "      <td>67</td>\n",
              "      <td>5</td>\n",
              "      <td>1.0</td>\n",
              "      <td>0.0</td>\n",
              "      <td>0.0</td>\n",
              "      <td>0.0</td>\n",
              "      <td>0.0</td>\n",
              "      <td>0.0</td>\n",
              "      <td>0.0</td>\n",
              "      <td>...</td>\n",
              "      <td>0.0</td>\n",
              "      <td>0.0</td>\n",
              "      <td>0.0</td>\n",
              "      <td>0.0</td>\n",
              "      <td>0.0</td>\n",
              "      <td>0.0</td>\n",
              "      <td>0.0</td>\n",
              "      <td>0.0</td>\n",
              "      <td>1.0</td>\n",
              "      <td>0.0</td>\n",
              "    </tr>\n",
              "  </tbody>\n",
              "</table>\n",
              "<p>5 rows × 6289 columns</p>\n",
              "</div>\n",
              "      <button class=\"colab-df-convert\" onclick=\"convertToInteractive('df-911144ce-316d-42e5-9e14-c9e7fc59efde')\"\n",
              "              title=\"Convert this dataframe to an interactive table.\"\n",
              "              style=\"display:none;\">\n",
              "        \n",
              "  <svg xmlns=\"http://www.w3.org/2000/svg\" height=\"24px\"viewBox=\"0 0 24 24\"\n",
              "       width=\"24px\">\n",
              "    <path d=\"M0 0h24v24H0V0z\" fill=\"none\"/>\n",
              "    <path d=\"M18.56 5.44l.94 2.06.94-2.06 2.06-.94-2.06-.94-.94-2.06-.94 2.06-2.06.94zm-11 1L8.5 8.5l.94-2.06 2.06-.94-2.06-.94L8.5 2.5l-.94 2.06-2.06.94zm10 10l.94 2.06.94-2.06 2.06-.94-2.06-.94-.94-2.06-.94 2.06-2.06.94z\"/><path d=\"M17.41 7.96l-1.37-1.37c-.4-.4-.92-.59-1.43-.59-.52 0-1.04.2-1.43.59L10.3 9.45l-7.72 7.72c-.78.78-.78 2.05 0 2.83L4 21.41c.39.39.9.59 1.41.59.51 0 1.02-.2 1.41-.59l7.78-7.78 2.81-2.81c.8-.78.8-2.07 0-2.86zM5.41 20L4 18.59l7.72-7.72 1.47 1.35L5.41 20z\"/>\n",
              "  </svg>\n",
              "      </button>\n",
              "      \n",
              "  <style>\n",
              "    .colab-df-container {\n",
              "      display:flex;\n",
              "      flex-wrap:wrap;\n",
              "      gap: 12px;\n",
              "    }\n",
              "\n",
              "    .colab-df-convert {\n",
              "      background-color: #E8F0FE;\n",
              "      border: none;\n",
              "      border-radius: 50%;\n",
              "      cursor: pointer;\n",
              "      display: none;\n",
              "      fill: #1967D2;\n",
              "      height: 32px;\n",
              "      padding: 0 0 0 0;\n",
              "      width: 32px;\n",
              "    }\n",
              "\n",
              "    .colab-df-convert:hover {\n",
              "      background-color: #E2EBFA;\n",
              "      box-shadow: 0px 1px 2px rgba(60, 64, 67, 0.3), 0px 1px 3px 1px rgba(60, 64, 67, 0.15);\n",
              "      fill: #174EA6;\n",
              "    }\n",
              "\n",
              "    [theme=dark] .colab-df-convert {\n",
              "      background-color: #3B4455;\n",
              "      fill: #D2E3FC;\n",
              "    }\n",
              "\n",
              "    [theme=dark] .colab-df-convert:hover {\n",
              "      background-color: #434B5C;\n",
              "      box-shadow: 0px 1px 3px 1px rgba(0, 0, 0, 0.15);\n",
              "      filter: drop-shadow(0px 1px 2px rgba(0, 0, 0, 0.3));\n",
              "      fill: #FFFFFF;\n",
              "    }\n",
              "  </style>\n",
              "\n",
              "      <script>\n",
              "        const buttonEl =\n",
              "          document.querySelector('#df-911144ce-316d-42e5-9e14-c9e7fc59efde button.colab-df-convert');\n",
              "        buttonEl.style.display =\n",
              "          google.colab.kernel.accessAllowed ? 'block' : 'none';\n",
              "\n",
              "        async function convertToInteractive(key) {\n",
              "          const element = document.querySelector('#df-911144ce-316d-42e5-9e14-c9e7fc59efde');\n",
              "          const dataTable =\n",
              "            await google.colab.kernel.invokeFunction('convertToInteractive',\n",
              "                                                     [key], {});\n",
              "          if (!dataTable) return;\n",
              "\n",
              "          const docLinkHtml = 'Like what you see? Visit the ' +\n",
              "            '<a target=\"_blank\" href=https://colab.research.google.com/notebooks/data_table.ipynb>data table notebook</a>'\n",
              "            + ' to learn more about interactive tables.';\n",
              "          element.innerHTML = '';\n",
              "          dataTable['output_type'] = 'display_data';\n",
              "          await google.colab.output.renderOutput(dataTable, element);\n",
              "          const docLink = document.createElement('div');\n",
              "          docLink.innerHTML = docLinkHtml;\n",
              "          element.appendChild(docLink);\n",
              "        }\n",
              "      </script>\n",
              "    </div>\n",
              "  </div>\n",
              "  "
            ]
          },
          "metadata": {},
          "execution_count": 22
        }
      ]
    },
    {
      "cell_type": "code",
      "source": [
        "# Split our preprocessed data into our features and target arrays\n",
        "y = Revised_Matches_df[\"home_team_result_Win\"].values \n",
        "X = Revised_Matches_df.drop([\"home_team_result_Lose\",\"home_team_result_Win\"],1).values\n",
        "\n",
        "# Split the preprocessed data into a training and testing dataset\n",
        "X_train, X_test, y_train, y_test = train_test_split(X, y, random_state=78)"
      ],
      "metadata": {
        "id": "2wptepn4PH1c"
      },
      "execution_count": null,
      "outputs": []
    },
    {
      "cell_type": "code",
      "source": [
        "# Create a StandardScaler instance\n",
        "scaler = StandardScaler()\n",
        "\n",
        "# Fit the StandardScaler\n",
        "X_scaler = scaler.fit(X_train)\n",
        "\n",
        "# Scale the data\n",
        "X_train_scaled = X_scaler.transform(X_train)\n",
        "X_test_scaled = X_scaler.transform(X_test)"
      ],
      "metadata": {
        "id": "akdasgbsPpGb"
      },
      "execution_count": 24,
      "outputs": []
    },
    {
      "cell_type": "code",
      "source": [
        "# Define the model - deep neural net\n",
        "number_input_features = len(X_train[0])\n",
        "hidden_nodes_layer1 = 100\n",
        "hidden_nodes_layer2 = 80\n",
        "hidden_nodes_layer3 = 10\n",
        "\n",
        "nn = tf.keras.models.Sequential()\n",
        "\n",
        "# First hidden layer\n",
        "nn.add(\n",
        "    tf.keras.layers.Dense(units=hidden_nodes_layer1, input_dim=number_input_features, activation=\"relu\"))\n",
        "\n",
        "# Second hidden layer\n",
        "nn.add(tf.keras.layers.Dense(units=hidden_nodes_layer2, activation=\"relu\"))\n",
        "\n",
        "nn.add(tf.keras.layers.Dense(units=hidden_nodes_layer3, activation=\"relu\"))\n",
        "\n",
        "# Output layer\n",
        "nn.add(tf.keras.layers.Dense(units=1, activation=\"sigmoid\"))\n",
        "\n",
        "# Check the structure of the model\n",
        "nn.summary()"
      ],
      "metadata": {
        "colab": {
          "base_uri": "https://localhost:8080/"
        },
        "id": "OJDFUNzrPqJT",
        "outputId": "d1389b75-daaf-4e03-946c-980677b74a38"
      },
      "execution_count": 44,
      "outputs": [
        {
          "output_type": "stream",
          "name": "stdout",
          "text": [
            "Model: \"sequential_7\"\n",
            "_________________________________________________________________\n",
            " Layer (type)                Output Shape              Param #   \n",
            "=================================================================\n",
            " dense_22 (Dense)            (None, 100)               628800    \n",
            "                                                                 \n",
            " dense_23 (Dense)            (None, 80)                8080      \n",
            "                                                                 \n",
            " dense_24 (Dense)            (None, 10)                810       \n",
            "                                                                 \n",
            " dense_25 (Dense)            (None, 1)                 11        \n",
            "                                                                 \n",
            "=================================================================\n",
            "Total params: 637,701\n",
            "Trainable params: 637,701\n",
            "Non-trainable params: 0\n",
            "_________________________________________________________________\n"
          ]
        }
      ]
    },
    {
      "cell_type": "code",
      "source": [
        "# Compile the model\n",
        "nn.compile(loss=\"binary_crossentropy\", optimizer=\"adam\", metrics=[\"accuracy\"])"
      ],
      "metadata": {
        "id": "8516BxXdPwkh"
      },
      "execution_count": 45,
      "outputs": []
    },
    {
      "cell_type": "code",
      "source": [
        "# Train the model\n",
        "fit_model = nn.fit(X_train,y_train,epochs=100)"
      ],
      "metadata": {
        "colab": {
          "base_uri": "https://localhost:8080/"
        },
        "id": "eyuIBN61RUB7",
        "outputId": "5c28a618-fe41-4c1e-df79-b3339f4282e5"
      },
      "execution_count": 46,
      "outputs": [
        {
          "output_type": "stream",
          "name": "stdout",
          "text": [
            "Epoch 1/100\n",
            "561/561 [==============================] - 7s 11ms/step - loss: 1.9054 - accuracy: 0.5887\n",
            "Epoch 2/100\n",
            "561/561 [==============================] - 5s 9ms/step - loss: 0.9733 - accuracy: 0.6486\n",
            "Epoch 3/100\n",
            "561/561 [==============================] - 5s 9ms/step - loss: 0.6718 - accuracy: 0.6837\n",
            "Epoch 4/100\n",
            "561/561 [==============================] - 4s 8ms/step - loss: 0.6366 - accuracy: 0.6940\n",
            "Epoch 5/100\n",
            "561/561 [==============================] - 4s 8ms/step - loss: 0.6386 - accuracy: 0.7019\n",
            "Epoch 6/100\n",
            "561/561 [==============================] - 4s 8ms/step - loss: 0.5676 - accuracy: 0.7281\n",
            "Epoch 7/100\n",
            "561/561 [==============================] - 5s 9ms/step - loss: 0.5702 - accuracy: 0.7287\n",
            "Epoch 8/100\n",
            "561/561 [==============================] - 5s 9ms/step - loss: 0.5496 - accuracy: 0.7351\n",
            "Epoch 9/100\n",
            "561/561 [==============================] - 4s 8ms/step - loss: 0.5288 - accuracy: 0.7487\n",
            "Epoch 10/100\n",
            "561/561 [==============================] - 4s 8ms/step - loss: 0.5007 - accuracy: 0.7594\n",
            "Epoch 11/100\n",
            "561/561 [==============================] - 5s 8ms/step - loss: 0.5388 - accuracy: 0.7401\n",
            "Epoch 12/100\n",
            "561/561 [==============================] - 5s 8ms/step - loss: 0.4957 - accuracy: 0.7572\n",
            "Epoch 13/100\n",
            "561/561 [==============================] - 5s 8ms/step - loss: 0.5177 - accuracy: 0.7368\n",
            "Epoch 14/100\n",
            "561/561 [==============================] - 5s 8ms/step - loss: 0.4824 - accuracy: 0.7668\n",
            "Epoch 15/100\n",
            "561/561 [==============================] - 4s 8ms/step - loss: 0.4835 - accuracy: 0.7645\n",
            "Epoch 16/100\n",
            "561/561 [==============================] - 5s 9ms/step - loss: 0.4695 - accuracy: 0.7689\n",
            "Epoch 17/100\n",
            "561/561 [==============================] - 4s 8ms/step - loss: 0.5222 - accuracy: 0.7444\n",
            "Epoch 18/100\n",
            "561/561 [==============================] - 4s 8ms/step - loss: 0.4382 - accuracy: 0.7924\n",
            "Epoch 19/100\n",
            "561/561 [==============================] - 5s 9ms/step - loss: 0.4570 - accuracy: 0.7835\n",
            "Epoch 20/100\n",
            "561/561 [==============================] - 5s 9ms/step - loss: 0.4402 - accuracy: 0.7882\n",
            "Epoch 21/100\n",
            "561/561 [==============================] - 5s 8ms/step - loss: 0.4139 - accuracy: 0.8021\n",
            "Epoch 22/100\n",
            "561/561 [==============================] - 5s 8ms/step - loss: 0.4416 - accuracy: 0.7842\n",
            "Epoch 23/100\n",
            "561/561 [==============================] - 4s 8ms/step - loss: 0.4323 - accuracy: 0.7876\n",
            "Epoch 24/100\n",
            "561/561 [==============================] - 5s 8ms/step - loss: 0.4536 - accuracy: 0.7678\n",
            "Epoch 25/100\n",
            "561/561 [==============================] - 5s 9ms/step - loss: 0.4277 - accuracy: 0.7905\n",
            "Epoch 26/100\n",
            "561/561 [==============================] - 5s 9ms/step - loss: 0.4171 - accuracy: 0.7973\n",
            "Epoch 27/100\n",
            "561/561 [==============================] - 5s 8ms/step - loss: 0.4078 - accuracy: 0.8056\n",
            "Epoch 28/100\n",
            "561/561 [==============================] - 5s 8ms/step - loss: 0.4046 - accuracy: 0.8042\n",
            "Epoch 29/100\n",
            "561/561 [==============================] - 5s 9ms/step - loss: 0.3959 - accuracy: 0.8072\n",
            "Epoch 30/100\n",
            "561/561 [==============================] - 5s 9ms/step - loss: 0.4117 - accuracy: 0.7979\n",
            "Epoch 31/100\n",
            "561/561 [==============================] - 6s 11ms/step - loss: 0.3890 - accuracy: 0.8138\n",
            "Epoch 32/100\n",
            "561/561 [==============================] - 5s 9ms/step - loss: 0.3933 - accuracy: 0.8107\n",
            "Epoch 33/100\n",
            "561/561 [==============================] - 5s 8ms/step - loss: 0.3962 - accuracy: 0.8072\n",
            "Epoch 34/100\n",
            "561/561 [==============================] - 4s 8ms/step - loss: 0.4017 - accuracy: 0.8025\n",
            "Epoch 35/100\n",
            "561/561 [==============================] - 5s 9ms/step - loss: 0.4010 - accuracy: 0.8082\n",
            "Epoch 36/100\n",
            "561/561 [==============================] - 5s 9ms/step - loss: 0.3833 - accuracy: 0.8128\n",
            "Epoch 37/100\n",
            "561/561 [==============================] - 5s 10ms/step - loss: 0.3786 - accuracy: 0.8145\n",
            "Epoch 38/100\n",
            "561/561 [==============================] - 5s 10ms/step - loss: 0.3687 - accuracy: 0.8198\n",
            "Epoch 39/100\n",
            "561/561 [==============================] - 5s 8ms/step - loss: 0.3897 - accuracy: 0.8107\n",
            "Epoch 40/100\n",
            "561/561 [==============================] - 5s 9ms/step - loss: 0.3843 - accuracy: 0.8122\n",
            "Epoch 41/100\n",
            "561/561 [==============================] - 5s 9ms/step - loss: 0.3997 - accuracy: 0.8103\n",
            "Epoch 42/100\n",
            "561/561 [==============================] - 4s 8ms/step - loss: 0.3730 - accuracy: 0.8217\n",
            "Epoch 43/100\n",
            "561/561 [==============================] - 4s 8ms/step - loss: 0.4211 - accuracy: 0.8077\n",
            "Epoch 44/100\n",
            "561/561 [==============================] - 5s 8ms/step - loss: 0.4100 - accuracy: 0.8057\n",
            "Epoch 45/100\n",
            "561/561 [==============================] - 5s 9ms/step - loss: 0.3826 - accuracy: 0.8151\n",
            "Epoch 46/100\n",
            "561/561 [==============================] - 5s 9ms/step - loss: 0.3722 - accuracy: 0.8219\n",
            "Epoch 47/100\n",
            "561/561 [==============================] - 5s 9ms/step - loss: 0.3752 - accuracy: 0.8219\n",
            "Epoch 48/100\n",
            "561/561 [==============================] - 5s 9ms/step - loss: 0.3715 - accuracy: 0.8201\n",
            "Epoch 49/100\n",
            "561/561 [==============================] - 5s 9ms/step - loss: 0.4568 - accuracy: 0.7878\n",
            "Epoch 50/100\n",
            "561/561 [==============================] - 5s 9ms/step - loss: 0.3919 - accuracy: 0.8129\n",
            "Epoch 51/100\n",
            "561/561 [==============================] - 5s 9ms/step - loss: 0.3830 - accuracy: 0.8151\n",
            "Epoch 52/100\n",
            "561/561 [==============================] - 5s 8ms/step - loss: 0.3819 - accuracy: 0.8169\n",
            "Epoch 53/100\n",
            "561/561 [==============================] - 5s 9ms/step - loss: 0.3719 - accuracy: 0.8234\n",
            "Epoch 54/100\n",
            "561/561 [==============================] - 4s 8ms/step - loss: 0.3934 - accuracy: 0.8150\n",
            "Epoch 55/100\n",
            "561/561 [==============================] - 5s 9ms/step - loss: 0.3670 - accuracy: 0.8266\n",
            "Epoch 56/100\n",
            "561/561 [==============================] - 5s 8ms/step - loss: 0.3539 - accuracy: 0.8323\n",
            "Epoch 57/100\n",
            "561/561 [==============================] - 5s 9ms/step - loss: 0.3716 - accuracy: 0.8187\n",
            "Epoch 58/100\n",
            "561/561 [==============================] - 4s 8ms/step - loss: 0.3485 - accuracy: 0.8309\n",
            "Epoch 59/100\n",
            "561/561 [==============================] - 5s 10ms/step - loss: 0.3626 - accuracy: 0.8280\n",
            "Epoch 60/100\n",
            "561/561 [==============================] - 5s 9ms/step - loss: 0.3580 - accuracy: 0.8305\n",
            "Epoch 61/100\n",
            "561/561 [==============================] - 6s 11ms/step - loss: 0.3531 - accuracy: 0.8326\n",
            "Epoch 62/100\n",
            "561/561 [==============================] - 5s 9ms/step - loss: 0.3686 - accuracy: 0.8228\n",
            "Epoch 63/100\n",
            "561/561 [==============================] - 5s 9ms/step - loss: 0.3547 - accuracy: 0.8309\n",
            "Epoch 64/100\n",
            "561/561 [==============================] - 5s 9ms/step - loss: 0.3673 - accuracy: 0.8195\n",
            "Epoch 65/100\n",
            "561/561 [==============================] - 5s 9ms/step - loss: 0.3526 - accuracy: 0.8327\n",
            "Epoch 66/100\n",
            "561/561 [==============================] - 5s 9ms/step - loss: 0.3575 - accuracy: 0.8260\n",
            "Epoch 67/100\n",
            "561/561 [==============================] - 5s 9ms/step - loss: 0.3528 - accuracy: 0.8303\n",
            "Epoch 68/100\n",
            "561/561 [==============================] - 5s 8ms/step - loss: 0.3654 - accuracy: 0.8204\n",
            "Epoch 69/100\n",
            "561/561 [==============================] - 5s 9ms/step - loss: 0.3759 - accuracy: 0.8277\n",
            "Epoch 70/100\n",
            "561/561 [==============================] - 5s 10ms/step - loss: 0.3566 - accuracy: 0.8293\n",
            "Epoch 71/100\n",
            "561/561 [==============================] - 5s 9ms/step - loss: 0.3576 - accuracy: 0.8278\n",
            "Epoch 72/100\n",
            "561/561 [==============================] - 4s 8ms/step - loss: 0.3735 - accuracy: 0.8231\n",
            "Epoch 73/100\n",
            "561/561 [==============================] - 5s 9ms/step - loss: 0.3642 - accuracy: 0.8270\n",
            "Epoch 74/100\n",
            "561/561 [==============================] - 5s 8ms/step - loss: 0.3424 - accuracy: 0.8351\n",
            "Epoch 75/100\n",
            "561/561 [==============================] - 5s 9ms/step - loss: 0.3532 - accuracy: 0.8341\n",
            "Epoch 76/100\n",
            "561/561 [==============================] - 5s 9ms/step - loss: 0.3554 - accuracy: 0.8321\n",
            "Epoch 77/100\n",
            "561/561 [==============================] - 5s 9ms/step - loss: 0.3540 - accuracy: 0.8268\n",
            "Epoch 78/100\n",
            "561/561 [==============================] - 5s 8ms/step - loss: 0.3657 - accuracy: 0.8261\n",
            "Epoch 79/100\n",
            "561/561 [==============================] - 5s 8ms/step - loss: 0.3720 - accuracy: 0.8233\n",
            "Epoch 80/100\n",
            "561/561 [==============================] - 5s 8ms/step - loss: 0.3566 - accuracy: 0.8297\n",
            "Epoch 81/100\n",
            "561/561 [==============================] - 5s 9ms/step - loss: 0.3382 - accuracy: 0.8373\n",
            "Epoch 82/100\n",
            "561/561 [==============================] - 4s 8ms/step - loss: 0.3399 - accuracy: 0.8360\n",
            "Epoch 83/100\n",
            "561/561 [==============================] - 5s 10ms/step - loss: 0.3335 - accuracy: 0.8399\n",
            "Epoch 84/100\n",
            "561/561 [==============================] - 5s 9ms/step - loss: 0.3473 - accuracy: 0.8332\n",
            "Epoch 85/100\n",
            "561/561 [==============================] - 5s 8ms/step - loss: 0.3368 - accuracy: 0.8390\n",
            "Epoch 86/100\n",
            "561/561 [==============================] - 5s 9ms/step - loss: 0.3354 - accuracy: 0.8399\n",
            "Epoch 87/100\n",
            "561/561 [==============================] - 5s 9ms/step - loss: 0.3469 - accuracy: 0.8351\n",
            "Epoch 88/100\n",
            "561/561 [==============================] - 5s 9ms/step - loss: 0.3413 - accuracy: 0.8354\n",
            "Epoch 89/100\n",
            "561/561 [==============================] - 6s 10ms/step - loss: 0.3302 - accuracy: 0.8436\n",
            "Epoch 90/100\n",
            "561/561 [==============================] - 6s 12ms/step - loss: 0.3357 - accuracy: 0.8394\n",
            "Epoch 91/100\n",
            "561/561 [==============================] - 5s 9ms/step - loss: 0.3305 - accuracy: 0.8416\n",
            "Epoch 92/100\n",
            "561/561 [==============================] - 4s 8ms/step - loss: 0.3327 - accuracy: 0.8401\n",
            "Epoch 93/100\n",
            "561/561 [==============================] - 5s 9ms/step - loss: 0.3969 - accuracy: 0.8139\n",
            "Epoch 94/100\n",
            "561/561 [==============================] - 6s 10ms/step - loss: 0.3745 - accuracy: 0.8241\n",
            "Epoch 95/100\n",
            "561/561 [==============================] - 5s 10ms/step - loss: 0.3800 - accuracy: 0.8197\n",
            "Epoch 96/100\n",
            "561/561 [==============================] - 6s 10ms/step - loss: 0.3599 - accuracy: 0.8307\n",
            "Epoch 97/100\n",
            "561/561 [==============================] - 5s 9ms/step - loss: 0.3354 - accuracy: 0.8385\n",
            "Epoch 98/100\n",
            "561/561 [==============================] - 5s 9ms/step - loss: 0.3279 - accuracy: 0.8427\n",
            "Epoch 99/100\n",
            "561/561 [==============================] - 5s 9ms/step - loss: 0.3233 - accuracy: 0.8473\n",
            "Epoch 100/100\n",
            "561/561 [==============================] - 6s 10ms/step - loss: 0.3349 - accuracy: 0.8399\n"
          ]
        }
      ]
    },
    {
      "cell_type": "code",
      "source": [
        "# Evaluate the model using the test data\n",
        "model_loss, model_accuracy = nn.evaluate(X_test,y_test,verbose=2)\n",
        "print(f\"Loss: {model_loss}, Accuracy: {model_accuracy}\")"
      ],
      "metadata": {
        "colab": {
          "base_uri": "https://localhost:8080/"
        },
        "id": "jwguTkMuP_7U",
        "outputId": "a639dbf9-1dab-4026-95ae-54b53c11f5d7"
      },
      "execution_count": 47,
      "outputs": [
        {
          "output_type": "stream",
          "name": "stdout",
          "text": [
            "187/187 - 1s - loss: 0.4689 - accuracy: 0.7902 - 640ms/epoch - 3ms/step\n",
            "Loss: 0.4689093232154846, Accuracy: 0.7901688814163208\n"
          ]
        }
      ]
    },
    {
      "cell_type": "code",
      "source": [],
      "metadata": {
        "id": "JGj_X6pDq2P7"
      },
      "execution_count": null,
      "outputs": []
    }
  ]
}